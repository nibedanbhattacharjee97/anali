{
 "cells": [
  {
   "cell_type": "code",
   "execution_count": 5,
   "id": "63a41067-b0f1-46a1-b7b6-779dd68dd89f",
   "metadata": {},
   "outputs": [
    {
     "name": "stdout",
     "output_type": "stream",
     "text": [
      "Mean of Marks: 51.34933259735046\n",
      "Median of Marks: 67.0\n",
      "Mode of Marks: 0\n"
     ]
    }
   ],
   "source": [
    "import pandas as pd\n",
    "\n",
    "# Load the data\n",
    "file_path = 'education_data.xlsx'  # Adjust the path if needed\n",
    "df = pd.read_excel(file_path)\n",
    "\n",
    "from statistics import mode\n",
    "df['Marks'] = pd.to_numeric(df['Marks'], errors='coerce')\n",
    "mean_marks = df['Marks'].mean()\n",
    "median_marks = df['Marks'].median()\n",
    "try:\n",
    "    mode_marks = mode(df['Marks'])\n",
    "except:\n",
    "    mode_marks = \"No unique mode\"\n",
    "print(f\"Mean of Marks: {mean_marks}\")\n",
    "print(f\"Median of Marks: {median_marks}\")\n",
    "print(f\"Mode of Marks: {mode_marks}\")"
   ]
  },
  {
   "cell_type": "code",
   "execution_count": 6,
   "id": "0b4f7a25-66aa-4332-9798-58b745c68d52",
   "metadata": {},
   "outputs": [
    {
     "name": "stdout",
     "output_type": "stream",
     "text": [
      "Mean of Marks for Placed Candidates: 70.26642165051787\n",
      "Median of Marks for Placed Candidates: 74.0\n",
      "Mode of Marks for Placed Candidates: 0\n"
     ]
    },
    {
     "name": "stderr",
     "output_type": "stream",
     "text": [
      "C:\\Users\\Anudip\\AppData\\Local\\Temp\\ipykernel_9596\\3286051354.py:2: SettingWithCopyWarning: \n",
      "A value is trying to be set on a copy of a slice from a DataFrame.\n",
      "Try using .loc[row_indexer,col_indexer] = value instead\n",
      "\n",
      "See the caveats in the documentation: https://pandas.pydata.org/pandas-docs/stable/user_guide/indexing.html#returning-a-view-versus-a-copy\n",
      "  placed_df['Marks'] = pd.to_numeric(placed_df['Marks'], errors='coerce')\n"
     ]
    }
   ],
   "source": [
    "placed_df = df[df['PlacementStatus'] == 'Placed']\n",
    "placed_df['Marks'] = pd.to_numeric(placed_df['Marks'], errors='coerce')\n",
    "mean_marks = placed_df['Marks'].mean()\n",
    "median_marks = placed_df['Marks'].median()\n",
    "try:\n",
    "    mode_marks = mode(placed_df['Marks'])\n",
    "except:\n",
    "    mode_marks = \"No unique mode\"\n",
    "\n",
    "# Display the results\n",
    "print(f\"Mean of Marks for Placed Candidates: {mean_marks}\")\n",
    "print(f\"Median of Marks for Placed Candidates: {median_marks}\")\n",
    "print(f\"Mode of Marks for Placed Candidates: {mode_marks}\")"
   ]
  }
 ],
 "metadata": {
  "kernelspec": {
   "display_name": "Python 3 (ipykernel)",
   "language": "python",
   "name": "python3"
  },
  "language_info": {
   "codemirror_mode": {
    "name": "ipython",
    "version": 3
   },
   "file_extension": ".py",
   "mimetype": "text/x-python",
   "name": "python",
   "nbconvert_exporter": "python",
   "pygments_lexer": "ipython3",
   "version": "3.11.6"
  }
 },
 "nbformat": 4,
 "nbformat_minor": 5
}
