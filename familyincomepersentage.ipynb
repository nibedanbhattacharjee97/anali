{
 "cells": [
  {
   "cell_type": "code",
   "execution_count": 3,
   "id": "12360d86-7d73-4fae-ac8a-f6883dba97d4",
   "metadata": {},
   "outputs": [
    {
     "name": "stdout",
     "output_type": "stream",
     "text": [
      "Average Earnings for Placed Candidates: 9302.847444036084\n",
      "Percentage Increase in Earnings after Job: 930284.74%\n"
     ]
    }
   ],
   "source": [
    "import pandas as pd\n",
    "\n",
    "# Load the data\n",
    "file_path = 'education_data.xlsx'  # Adjust the path if needed\n",
    "df = pd.read_excel(file_path)\n",
    "\n",
    "# Calculate average earnings for non-placed candidates (assumed as 0)\n",
    "initial_earnings = 0  # Assuming non-placed candidates have 0 earnings\n",
    "\n",
    "# Calculate average earnings for placed candidates\n",
    "average_earnings_placed = df[df['PlacementStatus'] == 'Placed']['MonthlyEarnings'].mean()\n",
    "\n",
    "# Calculate the percentage increase\n",
    "percentage_increase = ((average_earnings_placed - initial_earnings) / max(initial_earnings, 1)) * 100\n",
    "\n",
    "# Display the result\n",
    "print(f\"Average Earnings for Placed Candidates: {average_earnings_placed}\")\n",
    "print(f\"Percentage Increase in Earnings after Job: {percentage_increase:.2f}%\")\n"
   ]
  },
  {
   "cell_type": "code",
   "execution_count": null,
   "id": "56f7a268-3f83-490f-bdf4-d54c27282404",
   "metadata": {},
   "outputs": [],
   "source": []
  }
 ],
 "metadata": {
  "kernelspec": {
   "display_name": "Python 3 (ipykernel)",
   "language": "python",
   "name": "python3"
  },
  "language_info": {
   "codemirror_mode": {
    "name": "ipython",
    "version": 3
   },
   "file_extension": ".py",
   "mimetype": "text/x-python",
   "name": "python",
   "nbconvert_exporter": "python",
   "pygments_lexer": "ipython3",
   "version": "3.11.6"
  }
 },
 "nbformat": 4,
 "nbformat_minor": 5
}
